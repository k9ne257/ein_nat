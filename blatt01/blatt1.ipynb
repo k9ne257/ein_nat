{
 "cells": [
  {
   "metadata": {},
   "cell_type": "markdown",
   "source": "# Aufgabe 1",
   "id": "503485923009ceae"
  },
  {
   "metadata": {
    "ExecuteTime": {
     "end_time": "2024-10-14T00:29:28.694001Z",
     "start_time": "2024-10-14T00:29:28.663608Z"
    }
   },
   "cell_type": "code",
   "source": [
    "def harmonische_zahl(n):\n",
    "    h_n = 0\n",
    "    if n == 1:\n",
    "        return 1\n",
    "    \n",
    "    for i in range(1,n):\n",
    "        h_n = h_n + (1/i)\n",
    "    return h_n\n",
    "\n",
    "harmonische_zahl(1000)"
   ],
   "id": "30b77e22c03ec742",
   "outputs": [
    {
     "data": {
      "text/plain": [
       "7.484470860550343"
      ]
     },
     "execution_count": 18,
     "metadata": {},
     "output_type": "execute_result"
    }
   ],
   "execution_count": 18
  },
  {
   "metadata": {},
   "cell_type": "markdown",
   "source": "# Aufgabe 2",
   "id": "b11b51288d6d9eb9"
  },
  {
   "metadata": {
    "ExecuteTime": {
     "end_time": "2024-10-14T00:30:40.842361Z",
     "start_time": "2024-10-14T00:30:40.826694Z"
    }
   },
   "cell_type": "code",
   "source": [
    "def harmonische_zahl_rek(n):\n",
    "    if n == 1:\n",
    "        return 1\n",
    "    else:\n",
    "        return 1/n + harmonische_zahl_rek(n-1)"
   ],
   "id": "f6f9b5783476871d",
   "outputs": [],
   "execution_count": 20
  },
  {
   "metadata": {},
   "cell_type": "markdown",
   "source": "# Aufgabe 3",
   "id": "d14be64fa80fe65a"
  },
  {
   "metadata": {
    "ExecuteTime": {
     "end_time": "2024-10-14T00:32:04.191096Z",
     "start_time": "2024-10-14T00:32:04.168873Z"
    }
   },
   "cell_type": "code",
   "source": [
    " def list_of_harmonics():\n",
    "    list_of_hamornic_rek_nr = []\n",
    "    input_nr = int(input(\"Please put in a positive integer >= 1: \\n\")) + 1\n",
    "    for i in range(1,input_nr):\n",
    "        list_of_hamornic_rek_nr.append(harmonische_zahl_rek(i)) \n",
    "    print(list_of_hamornic_rek_nr)"
   ],
   "id": "fd29ffab4f3ddf59",
   "outputs": [],
   "execution_count": 26
  },
  {
   "metadata": {},
   "cell_type": "markdown",
   "source": "# Aufgabe 4",
   "id": "b6ce3b8ef8ebde9"
  },
  {
   "metadata": {},
   "cell_type": "markdown",
   "source": "not (A or B) || not A and not B",
   "id": "5d8096a5a6423366"
  },
  {
   "metadata": {},
   "cell_type": "markdown",
   "source": "# Aufgabe 5",
   "id": "850021508e1a8f34"
  },
  {
   "metadata": {
    "ExecuteTime": {
     "end_time": "2024-10-14T00:32:14.610658Z",
     "start_time": "2024-10-14T00:32:12.863282Z"
    }
   },
   "cell_type": "code",
   "source": [
    "def fak():\n",
    "    input_nr = int(input(\"Please put in an integer: \\n\"))+1\n",
    "    res = 1\n",
    "    \n",
    "    for i in range(1,input_nr):\n",
    "        res = res * (input_nr-i)\n",
    "    return res"
   ],
   "id": "2690a56cd0789632",
   "outputs": [
    {
     "data": {
      "text/plain": [
       "24"
      ]
     },
     "execution_count": 28,
     "metadata": {},
     "output_type": "execute_result"
    }
   ],
   "execution_count": 28
  },
  {
   "metadata": {},
   "cell_type": "markdown",
   "source": "# Aufgabe 6",
   "id": "a731e161de5696f0"
  },
  {
   "metadata": {
    "ExecuteTime": {
     "end_time": "2024-10-14T00:25:53.469760800Z",
     "start_time": "2024-10-09T00:11:21.911693Z"
    }
   },
   "cell_type": "code",
   "source": [
    "def is_prim(number):\n",
    "    prime = True\n",
    "    \n",
    "    for i in range(2, number+1):\n",
    "        if i == number:\n",
    "            continue\n",
    "        elif number % i == 0:\n",
    "         return not prime\n",
    "    return prime"
   ],
   "id": "2d8f0dcc1ffd56c6",
   "outputs": [],
   "execution_count": 96
  },
  {
   "metadata": {
    "ExecuteTime": {
     "end_time": "2024-10-14T00:25:53.469760800Z",
     "start_time": "2024-10-09T00:14:17.229183Z"
    }
   },
   "cell_type": "code",
   "source": [
    "input_nr = int(input(\"Please put in a positive integer >= 2: \\n\"))+1\n",
    "for i in range(1,input_nr):\n",
    "    if is_prim(i):\n",
    "        print(i)"
   ],
   "id": "758044cef1bd50a9",
   "outputs": [
    {
     "name": "stdout",
     "output_type": "stream",
     "text": [
      "1\n",
      "2\n",
      "3\n",
      "5\n",
      "7\n",
      "11\n",
      "13\n",
      "17\n",
      "19\n",
      "23\n",
      "29\n",
      "31\n",
      "37\n",
      "41\n",
      "43\n",
      "47\n",
      "53\n",
      "59\n",
      "61\n",
      "67\n",
      "71\n",
      "73\n",
      "79\n",
      "83\n",
      "89\n",
      "97\n",
      "101\n"
     ]
    }
   ],
   "execution_count": 100
  }
 ],
 "metadata": {
  "kernelspec": {
   "display_name": "Python 3",
   "language": "python",
   "name": "python3"
  },
  "language_info": {
   "codemirror_mode": {
    "name": "ipython",
    "version": 2
   },
   "file_extension": ".py",
   "mimetype": "text/x-python",
   "name": "python",
   "nbconvert_exporter": "python",
   "pygments_lexer": "ipython2",
   "version": "2.7.6"
  }
 },
 "nbformat": 4,
 "nbformat_minor": 5
}
