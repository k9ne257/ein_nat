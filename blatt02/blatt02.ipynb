{
 "cells": [
  {
   "metadata": {},
   "cell_type": "markdown",
   "source": "# Aufabe 1",
   "id": "a7591d29f28ca97d"
  },
  {
   "metadata": {
    "ExecuteTime": {
     "end_time": "2024-10-16T15:13:12.621503Z",
     "start_time": "2024-10-16T15:13:12.604062Z"
    }
   },
   "cell_type": "code",
   "source": [
    "v = \"ATGCG\" \n",
    "w = \"ATCCGC\""
   ],
   "id": "69c4828fa801fa8e",
   "outputs": [],
   "execution_count": 2
  },
  {
   "metadata": {
    "ExecuteTime": {
     "end_time": "2024-10-16T15:13:48.707807Z",
     "start_time": "2024-10-16T15:13:48.666954Z"
    }
   },
   "cell_type": "code",
   "source": [
    "def lgt_scoring_matrix(v, w):\n",
    "    n = len(v)\n",
    "    m = len(w)\n",
    "    \n",
    "    # Initialisiere die Scoring-Matrix S mit 0\n",
    "    S = [[0] * (m + 1) for i in range(n + 1)]\n",
    "\n",
    "    # Fülle die Matrix basierend auf den Regeln\n",
    "    for i in range(1, n + 1):\n",
    "        for j in range(1, m + 1):\n",
    "            if v[i - 1] == w[j - 1]:\n",
    "                S[i][j] = S[i - 1][j - 1] + 1\n",
    "            else:\n",
    "                S[i][j] = max(S[i - 1][j], S[i][j - 1])\n",
    "\n",
    "    # Speichere die Matrix in einer Datei\n",
    "    with open(\"S.txt\", \"w\") as file:\n",
    "        for row in S:\n",
    "            file.write(\" \".join(map(str, row)) + \"\\n\")\n",
    "    \n",
    "    return S\n",
    "\n",
    "S = lgt_scoring_matrix(v, w)"
   ],
   "id": "2eba3bc71b5468ca",
   "outputs": [],
   "execution_count": 5
  },
  {
   "metadata": {
    "ExecuteTime": {
     "end_time": "2024-10-16T15:13:25.212374Z",
     "start_time": "2024-10-16T15:13:25.204681Z"
    }
   },
   "cell_type": "code",
   "source": [
    "for row in S:\n",
    "    print(row)"
   ],
   "id": "37e3f8f5784dc949",
   "outputs": [
    {
     "name": "stdout",
     "output_type": "stream",
     "text": [
      "[0, 0, 0, 0, 0, 0, 0]\n",
      "[0, 1, 1, 1, 1, 1, 1]\n",
      "[0, 1, 2, 2, 2, 2, 2]\n",
      "[0, 1, 2, 2, 2, 3, 3]\n",
      "[0, 1, 2, 3, 3, 3, 4]\n",
      "[0, 1, 2, 3, 3, 4, 4]\n"
     ]
    }
   ],
   "execution_count": 4
  },
  {
   "metadata": {},
   "cell_type": "markdown",
   "source": "# Aufgabe 2",
   "id": "1e9913b811d570f"
  },
  {
   "metadata": {
    "ExecuteTime": {
     "end_time": "2024-10-16T15:18:55.533447Z",
     "start_time": "2024-10-16T15:18:55.513070Z"
    }
   },
   "cell_type": "code",
   "source": [
    "def lgt(v, w):\n",
    "    n = len(v)\n",
    "    m = len(w)\n",
    "    \n",
    "    # Initialisiere die Scoring-Matrix S und die Backtracking-Matrix B\n",
    "    S = [[0] * (m + 1) for _ in range(n + 1)]\n",
    "    B = [[\"\"] * (m + 1) for _ in range(n + 1)]\n",
    "\n",
    "    # Fülle die Matrizen basierend auf den Regeln\n",
    "    for i in range(1, n + 1):\n",
    "        for j in range(1, m + 1):\n",
    "            if v[i - 1] == w[j - 1]:\n",
    "                S[i][j] = S[i - 1][j - 1] + 1\n",
    "                B[i][j] = \"oben-links\"\n",
    "            elif S[i - 1][j] >= S[i][j - 1]:\n",
    "                S[i][j] = S[i - 1][j]\n",
    "                B[i][j] = \"oben\"\n",
    "            else:\n",
    "                S[i][j] = S[i][j - 1]\n",
    "                B[i][j] = \"links\"\n",
    "\n",
    "    # Gebe den maximalen Score und die Backtracking-Matrix B zurück\n",
    "    return S[n][m], B"
   ],
   "id": "23d3f1145fd4a439",
   "outputs": [],
   "execution_count": 8
  },
  {
   "metadata": {
    "ExecuteTime": {
     "end_time": "2024-10-16T15:18:53.461570Z",
     "start_time": "2024-10-16T15:18:53.452769Z"
    }
   },
   "cell_type": "code",
   "source": [
    "score, B = lgt(v, w)\n",
    "print(\"Score:\", score)\n",
    "for row in B:\n",
    "    print(row)"
   ],
   "id": "92d6d73277de2e41",
   "outputs": [
    {
     "name": "stdout",
     "output_type": "stream",
     "text": [
      "Score: 4\n",
      "['', '', '', '', '', '', '']\n",
      "['', 'oben-links', 'links', 'links', 'links', 'links', 'links']\n",
      "['', 'oben', 'oben-links', 'links', 'links', 'links', 'links']\n",
      "['', 'oben', 'oben', 'oben', 'oben', 'oben-links', 'links']\n",
      "['', 'oben', 'oben', 'oben-links', 'oben-links', 'oben', 'oben-links']\n",
      "['', 'oben', 'oben', 'oben', 'oben', 'oben-links', 'oben']\n"
     ]
    }
   ],
   "execution_count": 7
  }
 ],
 "metadata": {
  "kernelspec": {
   "display_name": "Python 3",
   "language": "python",
   "name": "python3"
  },
  "language_info": {
   "codemirror_mode": {
    "name": "ipython",
    "version": 2
   },
   "file_extension": ".py",
   "mimetype": "text/x-python",
   "name": "python",
   "nbconvert_exporter": "python",
   "pygments_lexer": "ipython2",
   "version": "2.7.6"
  }
 },
 "nbformat": 4,
 "nbformat_minor": 5
}
