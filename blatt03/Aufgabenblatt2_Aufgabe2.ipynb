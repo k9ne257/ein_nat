{
 "cells": [
  {
   "cell_type": "markdown",
   "id": "1a52ad24-00ff-45b4-99e0-a906bbb1478c",
   "metadata": {},
   "source": [
    "**Aufgabe 2**"
   ]
  },
  {
   "cell_type": "code",
   "execution_count": 1,
   "id": "fd62f6b8-e44d-42d4-b371-0bcf5cd2a66d",
   "metadata": {},
   "outputs": [
    {
     "name": "stdout",
     "output_type": "stream",
     "text": [
      "Score: 4\n",
      "\n",
      "Backtracking b:\n",
      "['', 'links', 'links', 'links', 'links', 'links', 'links']\n",
      "['oben', 'oben-links', 'links', 'links', 'links', 'links', 'links']\n",
      "['oben', 'oben', 'oben-links', 'links', 'links', 'links', 'links']\n",
      "['oben', 'oben', 'oben', 'oben', 'oben', 'oben-links', 'links']\n",
      "['oben', 'oben', 'oben', 'oben-links', 'oben-links', 'oben', 'oben-links']\n",
      "['oben', 'oben', 'oben', 'oben', 'oben', 'oben-links', 'oben']\n",
      "\n"
     ]
    }
   ],
   "source": [
    "def lgt(v, w):\n",
    "    \"\"\"Find the longest common subsequence and return the score and the\n",
    "    backtracking matrix.\n",
    "\n",
    "    Return (s[n][m], b).\n",
    "    \"\"\"\n",
    "\n",
    "    # Sequence 1\n",
    "    l_v = [\"\"] + list(v)\n",
    "\n",
    "    # Sequence 2\n",
    "    l_w = [\"\"] + list(w)\n",
    "\n",
    "    n = len(l_v)\n",
    "    m = len(l_w)\n",
    "\n",
    "    # Initialize score matrix\n",
    "    s = [[0 for x in range(m)] for y in range(n)]\n",
    "\n",
    "    # Initialize backtracking matrix\n",
    "    b = [[\"\" for x in range(m)] for y in range(n)]\n",
    "    for i in range(1,n):\n",
    "        b[i][0] = \"oben\"\n",
    "    for j in range(1,m):\n",
    "        b[0][j] = \"links\"\n",
    "\n",
    "    for i in range(1, n):\n",
    "        for j in range(1, m):\n",
    "            # to distinguish between a match/mismatch.\n",
    "            match = False\n",
    "            if l_v[i] == l_w[j]:\n",
    "                s[i][j] = max(s[i - 1][j], s[i][j - 1], s[i - 1][j - 1] + 1)\n",
    "                match = True\n",
    "            else:\n",
    "                s[i][j] = max(s[i - 1][j], s[i][j - 1])\n",
    "            \n",
    "            if s[i][j] == s[i - 1][j - 1] + 1 and match:\n",
    "                b[i][j] = \"oben-links\"\n",
    "            elif s[i][j] == s[i - 1][j]:\n",
    "                b[i][j] = \"oben\"\n",
    "            elif s[i][j] == s[i][j - 1]:\n",
    "                b[i][j] = \"links\"\n",
    "\n",
    "    return s[n-1][m-1], b\n",
    "\n",
    "\n",
    "def print_matrix(matrix, title=None):\n",
    "    if title:\n",
    "        print(title)\n",
    "    for line in matrix:\n",
    "        print(line)\n",
    "    print()\n",
    "\n",
    "\n",
    "# Sequences\n",
    "v = \"ATGCG\"\n",
    "w = \"ATCCGC\"\n",
    "\n",
    "# Get score s_nm and backtracking matrix B\n",
    "score_nm, B = lgt(v, w)\n",
    "\n",
    "# print score s[n][m]\n",
    "print(\"Score:\", score_nm)\n",
    "print()\n",
    "\n",
    "# print backtracking matrix\n",
    "print_matrix(B, title='Backtracking b:')"
   ]
  },
  {
   "cell_type": "code",
   "execution_count": null,
   "id": "6a95c3b3-83b9-4ed6-bf0b-00a654479f45",
   "metadata": {},
   "outputs": [],
   "source": []
  }
 ],
 "metadata": {
  "kernelspec": {
   "display_name": "Python 3 (ipykernel)",
   "language": "python",
   "name": "python3"
  },
  "language_info": {
   "codemirror_mode": {
    "name": "ipython",
    "version": 3
   },
   "file_extension": ".py",
   "mimetype": "text/x-python",
   "name": "python",
   "nbconvert_exporter": "python",
   "pygments_lexer": "ipython3",
   "version": "3.9.12"
  }
 },
 "nbformat": 4,
 "nbformat_minor": 5
}
