{
 "cells": [
  {
   "cell_type": "markdown",
   "id": "1a52ad24-00ff-45b4-99e0-a906bbb1478c",
   "metadata": {},
   "source": [
    "**Aufgabe 2**"
   ]
  },
  {
   "cell_type": "code",
   "id": "fd62f6b8-e44d-42d4-b371-0bcf5cd2a66d",
   "metadata": {
    "ExecuteTime": {
     "end_time": "2024-10-23T14:51:19.685151Z",
     "start_time": "2024-10-23T14:51:19.658440Z"
    }
   },
   "source": [
    "from webencodings.mklabels import assert_lower\n",
    "\n",
    "\n",
    "def lgt(v, w):\n",
    "    \"\"\"Find the longest common subsequence and return the score and the\n",
    "    backtracking matrix.\n",
    "\n",
    "    Return (s[n][m], b).\n",
    "    \"\"\"\n",
    "\n",
    "    # Sequence 1\n",
    "    l_v = [\"\"] + list(v)\n",
    "\n",
    "    # Sequence 2\n",
    "    l_w = [\"\"] + list(w)\n",
    "\n",
    "    n = len(l_v)\n",
    "    m = len(l_w)\n",
    "\n",
    "    # Initialize score matrix\n",
    "    s = [[0 for x in range(m)] for y in range(n)]\n",
    "\n",
    "    # Initialize backtracking matrix\n",
    "    b = [[\"\" for x in range(m)] for y in range(n)]\n",
    "    for i in range(1,n):\n",
    "        b[i][0] = \"oben\"\n",
    "    for j in range(1,m):\n",
    "        b[0][j] = \"links\"\n",
    "\n",
    "    for i in range(1, n):\n",
    "        for j in range(1, m):\n",
    "            # to distinguish between a match/mismatch.\n",
    "            match = False\n",
    "            if l_v[i] == l_w[j]:\n",
    "                s[i][j] = max(s[i - 1][j], s[i][j - 1], s[i - 1][j - 1] + 1)\n",
    "                match = True\n",
    "            else:\n",
    "                s[i][j] = max(s[i - 1][j], s[i][j - 1])\n",
    "            \n",
    "            if s[i][j] == s[i - 1][j - 1] + 1 and match:\n",
    "                b[i][j] = \"oben-links\"\n",
    "            elif s[i][j] == s[i - 1][j]:\n",
    "                b[i][j] = \"oben\"\n",
    "            elif s[i][j] == s[i][j - 1]:\n",
    "                b[i][j] = \"links\"\n",
    "\n",
    "    return s[n-1][m-1], b\n",
    "\n",
    "\n",
    "def print_matrix(matrix, title=None):\n",
    "    if title:\n",
    "        print(title)\n",
    "    for line in matrix:\n",
    "        print(line)\n",
    "    print()\n",
    "\n",
    "\n",
    "# Sequences\n",
    "v = \"ATGCG\"\n",
    "w = \"ATCCGC\"\n",
    "\n",
    "# Get score s_nm and backtracking matrix B\n",
    "score_nm, B = lgt(v, w)\n",
    "\n",
    "# print score s[n][m]\n",
    "print(\"Score:\", score_nm)\n",
    "print()\n",
    "\n",
    "# print backtracking matrix\n",
    "print_matrix(B, title='Backtracking b:')"
   ],
   "outputs": [
    {
     "name": "stdout",
     "output_type": "stream",
     "text": [
      "Score: 4\n",
      "\n",
      "Backtracking b:\n",
      "['', 'links', 'links', 'links', 'links', 'links', 'links']\n",
      "['oben', 'oben-links', 'links', 'links', 'links', 'links', 'links']\n",
      "['oben', 'oben', 'oben-links', 'links', 'links', 'links', 'links']\n",
      "['oben', 'oben', 'oben', 'oben', 'oben', 'oben-links', 'links']\n",
      "['oben', 'oben', 'oben', 'oben-links', 'oben-links', 'oben', 'oben-links']\n",
      "['oben', 'oben', 'oben', 'oben', 'oben', 'oben-links', 'oben']\n",
      "\n"
     ]
    }
   ],
   "execution_count": 4
  },
  {
   "metadata": {},
   "cell_type": "markdown",
   "source": "# Aufgabe 1",
   "id": "ad1d0fa6ac73462b"
  },
  {
   "metadata": {
    "ExecuteTime": {
     "end_time": "2024-10-23T15:36:08.419059Z",
     "start_time": "2024-10-23T15:36:08.391823Z"
    }
   },
   "cell_type": "code",
   "source": [
    "def backtrack_v(B, v, i, j):\n",
    "    if i == 0 and j == 0:\n",
    "        return \"\"\n",
    "    if i == 0:  \n",
    "        return \"-\" + backtrack_v(B, v, i, j - 1)\n",
    "    if j == 0:  \n",
    "        return v[i - 1] + backtrack_v(B, v, i - 1, j)\n",
    "    if B[i][j] == \"oben-links\":  \n",
    "        return backtrack_v(B, v, i - 1, j - 1) + v[i - 1]\n",
    "    elif B[i][j] == \"oben\":  \n",
    "        return backtrack_v(B, v, i - 1, j) + v[i - 1]\n",
    "    else:  \n",
    "        return backtrack_v(B, v, i, j - 1) + \"-\""
   ],
   "id": "f71cd19ad8b6c5e0",
   "outputs": [],
   "execution_count": 34
  },
  {
   "metadata": {
    "ExecuteTime": {
     "end_time": "2024-10-23T15:42:54.264686Z",
     "start_time": "2024-10-23T15:42:54.253474Z"
    }
   },
   "cell_type": "code",
   "source": "assert backtrack_v(B, v, len(v), len(w)) == \"AT--GCG\"",
   "id": "5e4e9c9ce55fb4ea",
   "outputs": [],
   "execution_count": 50
  },
  {
   "metadata": {
    "ExecuteTime": {
     "end_time": "2024-10-23T15:36:26.735726Z",
     "start_time": "2024-10-23T15:36:26.721782Z"
    }
   },
   "cell_type": "code",
   "source": [
    "def backtrack_w(B, w, i, j):\n",
    "    if i == 0 or j == 0:\n",
    "        return \"\"\n",
    "    if B[i][j] == \"oben-links\":\n",
    "        return backtrack_w(B, w, i - 1, j - 1) + w[j - 1]\n",
    "    elif B[i][j] == \"oben\":\n",
    "        return backtrack_w(B, w, i - 1, j) + \"-\"\n",
    "    else:  # \"links\"\n",
    "        return backtrack_w(B, w, i, j - 1) + w[j - 1]"
   ],
   "id": "eba02c236f1c92a",
   "outputs": [],
   "execution_count": 36
  },
  {
   "metadata": {
    "ExecuteTime": {
     "end_time": "2024-10-23T15:42:43.438039Z",
     "start_time": "2024-10-23T15:42:43.425960Z"
    }
   },
   "cell_type": "code",
   "source": [
    "\n",
    "assert backtrack_w(B, w, len(v), len(w)) == 'ATCCGC-'\n"
   ],
   "id": "66b5dbc261678322",
   "outputs": [],
   "execution_count": 48
  },
  {
   "metadata": {},
   "cell_type": "markdown",
   "source": "# Aufgabe 2",
   "id": "5277bc003ffb289f"
  },
  {
   "metadata": {
    "ExecuteTime": {
     "end_time": "2024-10-23T15:55:20.930912Z",
     "start_time": "2024-10-23T15:55:20.841307Z"
    }
   },
   "cell_type": "code",
   "source": [
    "def global_alignment(v, w, match_score=1, mismatch_score=0, gap_penalty=-1):\n",
    "    \n",
    "    # Sequence 1\n",
    "    l_v = [\"\"] + list(v)\n",
    "\n",
    "    # Sequence 2\n",
    "    l_w = [\"\"] + list(w)\n",
    "\n",
    "    n = len(l_v)\n",
    "    m = len(l_w)\n",
    "\n",
    "    # Initialize score matrix with gap penalties\n",
    "    s = [[0 for x in range(m)] for y in range(n)]\n",
    "    B = [[\"\" for x in range(m)] for y in range(n)]\n",
    "\n",
    "    for i in range(1, n):\n",
    "        s[i][0] = gap_penalty * i\n",
    "        B[i][0] = \"oben\" \n",
    "    for j in range(1, m):\n",
    "        s[0][j] = gap_penalty * j\n",
    "        B[0][j] = \"links\" \n",
    "\n",
    "    # Fill the DP matrix based on match, mismatch, and gap penalties\n",
    "    for i in range(1, n):\n",
    "        for j in range(1, m):\n",
    "            if l_v[i] == l_w[j]:  # Match\n",
    "                score_diag = s[i - 1][j - 1] + match_score\n",
    "            else:  # Mismatch\n",
    "                score_diag = s[i - 1][j - 1] + mismatch_score\n",
    "\n",
    "            score_up = s[i - 1][j] + gap_penalty  \n",
    "            score_left = s[i][j - 1] + gap_penalty\n",
    "\n",
    "            # Take the maximum of the three possible movements\n",
    "            s[i][j] = max(score_diag, score_up, score_left)\n",
    "\n",
    "            if s[i][j] == score_diag:\n",
    "                B[i][j] = \"oben-links\"  \n",
    "            elif s[i][j] == score_up:\n",
    "                B[i][j] = \"oben\"  \n",
    "            else:\n",
    "                B[i][j] = \"links\"  \n",
    "\n",
    "    return s[n-1][m-1], B"
   ],
   "id": "c92ac8344c3af8bb",
   "outputs": [],
   "execution_count": 51
  },
  {
   "metadata": {
    "ExecuteTime": {
     "end_time": "2024-10-23T16:01:37.827501Z",
     "start_time": "2024-10-23T16:01:37.798570Z"
    }
   },
   "cell_type": "code",
   "source": [
    "def backtrack_global_alignment(B, v, w, i, j):\n",
    "    aligned_v = []\n",
    "    aligned_w = []\n",
    "    \n",
    "    while i > 0 or j > 0:\n",
    "        if i > 0 and j > 0 and B[i][j] == \"oben-links\":\n",
    "            aligned_v.append(v[i - 1])\n",
    "            aligned_w.append(w[j - 1])\n",
    "            i -= 1\n",
    "            j -= 1\n",
    "        elif i > 0 and (j == 0 or B[i][j] == \"oben\"):\n",
    "            aligned_v.append(v[i - 1])\n",
    "            aligned_w.append(\"-\")\n",
    "            i -= 1\n",
    "        else:\n",
    "            aligned_v.append(\"-\")\n",
    "            aligned_w.append(w[j - 1])\n",
    "            j -= 1\n",
    "\n",
    "    # Reverse the alignments\n",
    "    return \"\".join(reversed(aligned_v)), \"\".join(reversed(aligned_w))\n"
   ],
   "id": "4b9c4e3875d5b3f2",
   "outputs": [],
   "execution_count": 57
  },
  {
   "metadata": {
    "ExecuteTime": {
     "end_time": "2024-10-23T15:59:07.374239Z",
     "start_time": "2024-10-23T15:59:07.349332Z"
    }
   },
   "cell_type": "code",
   "source": [
    "# Get score and backtracking matrix B for the global_alignment impl.\n",
    "score_global, B_global = global_alignment(v, w, match_score=1, mismatch_score=0, gap_penalty=-1)\n",
    "\n",
    "# print score s[n][m]\n",
    "print(\"Score:\", score_global)\n",
    "print()\n",
    "\n",
    "# print backtracking matrix\n",
    "print_matrix(B_global, title='Backtracking B:')"
   ],
   "id": "17aeabf119a8ea24",
   "outputs": [
    {
     "name": "stdout",
     "output_type": "stream",
     "text": [
      "Score: 3\n",
      "\n",
      "Backtracking B:\n",
      "['', 'links', 'links', 'links', 'links', 'links', 'links']\n",
      "['oben', 'oben-links', 'links', 'links', 'links', 'links', 'links']\n",
      "['oben', 'oben', 'oben-links', 'links', 'links', 'links', 'links']\n",
      "['oben', 'oben', 'oben', 'oben-links', 'oben-links', 'oben-links', 'links']\n",
      "['oben', 'oben', 'oben', 'oben-links', 'oben-links', 'links', 'oben-links']\n",
      "['oben', 'oben', 'oben', 'oben', 'oben-links', 'oben-links', 'links']\n",
      "\n"
     ]
    }
   ],
   "execution_count": 53
  },
  {
   "metadata": {
    "ExecuteTime": {
     "end_time": "2024-10-23T16:01:40.650779Z",
     "start_time": "2024-10-23T16:01:40.621587Z"
    }
   },
   "cell_type": "code",
   "source": [
    "aligned_v, aligned_w = backtrack_global_alignment(B_global, v, w, len(v), len(w))\n",
    "print(f\"Score: {score_global}\")\n",
    "print(\"LGT-Alignment:\")\n",
    "print(aligned_v)\n",
    "print(aligned_w)\n",
    "\n",
    "# Save to file\n",
    "with open(\"alignment.txt\", \"w\") as file:\n",
    "    file.write(f\"Score: {score_global}\\n\")\n",
    "    file.write(\"LGT-Alignment:\\n\")\n",
    "    file.write(aligned_v + \"\\n\")\n",
    "    file.write(aligned_w + \"\\n\")"
   ],
   "id": "a10c21846052ea9a",
   "outputs": [
    {
     "name": "stdout",
     "output_type": "stream",
     "text": [
      "Score: 3\n",
      "LGT-Alignment:\n",
      "ATGCG-\n",
      "ATCCGC\n"
     ]
    }
   ],
   "execution_count": 58
  },
  {
   "metadata": {},
   "cell_type": "markdown",
   "source": "# Aufgabe 3",
   "id": "d76f36cb2a6c582b"
  },
  {
   "metadata": {
    "ExecuteTime": {
     "end_time": "2024-10-23T16:53:18.829690Z",
     "start_time": "2024-10-23T16:53:18.811570Z"
    }
   },
   "cell_type": "code",
   "source": [
    "def lese_scoring_matrix(filename):\n",
    "    \"\"\"Read the scoring matrix from the blosum62.txt file and store it in a dictionary.\"\"\"\n",
    "    delta = {}\n",
    "    \n",
    "    with open(filename, 'r') as f:\n",
    "        lines = f.readlines()\n",
    "\n",
    "    # The first line contains the amino acids (columns), so we extract them\n",
    "    amino_acids = []\n",
    "    for line in lines:\n",
    "        if line.startswith(\"#\"):  # Skip comments\n",
    "            continue\n",
    "        if not amino_acids:\n",
    "            # This should be the first valid line that contains amino acids\n",
    "            amino_acids = line.split()\n",
    "            continue\n",
    "\n",
    "        # Process the actual matrix rows\n",
    "        values = line.split()\n",
    "        row_amino_acid = values[0]  # The first entry in the row is the amino acid\n",
    "        scores = values[1:]  # The rest are the scores\n",
    "\n",
    "        # Check that the number of scores matches the number of amino acids\n",
    "        if len(scores) != len(amino_acids):\n",
    "            print(f\"Warning: Mismatch in row length for {row_amino_acid}\")\n",
    "            continue\n",
    "\n",
    "        # Populate the dictionary with scores for each amino acid pair\n",
    "        for j, score in enumerate(scores):\n",
    "            try:\n",
    "                # Handle '*' by assigning a default score or ignoring\n",
    "                if score == '*':\n",
    "                    delta[(row_amino_acid, amino_acids[j])] = -1  # Assign a default score for '*'\n",
    "                else:\n",
    "                    delta[(row_amino_acid, amino_acids[j])] = int(score)\n",
    "            except ValueError:\n",
    "                print(f\"Skipping invalid score: {score} for pair ({row_amino_acid}, {amino_acids[j]})\")\n",
    "\n",
    "    return delta\n"
   ],
   "id": "1b28ce6187458c0d",
   "outputs": [],
   "execution_count": 92
  },
  {
   "metadata": {
    "ExecuteTime": {
     "end_time": "2024-10-23T16:54:33.312831Z",
     "start_time": "2024-10-23T16:54:33.303966Z"
    }
   },
   "cell_type": "code",
   "source": [
    "def read_sequence(filename):\n",
    "    \"\"\"Read the amino acid sequence from a file and strip unwanted characters.\"\"\"\n",
    "    with open(filename, 'r') as f:\n",
    "        return f.read().strip().replace('\\n', '').replace(' ', '')"
   ],
   "id": "5c6afc84d4ea405a",
   "outputs": [],
   "execution_count": 95
  },
  {
   "metadata": {
    "ExecuteTime": {
     "end_time": "2024-10-23T16:52:44.861744Z",
     "start_time": "2024-10-23T16:52:44.850005Z"
    }
   },
   "cell_type": "code",
   "source": [
    "def needleman_wunsch(v, w, delta, indel_score=-5):    \n",
    "    n = len(v)\n",
    "    m = len(w)\n",
    "\n",
    "    # Initialize DP matrix and backtracking matrix\n",
    "    s = [[0 for _ in range(m + 1)] for _ in range(n + 1)]\n",
    "    b = [[\"\" for _ in range(m + 1)] for _ in range(n + 1)]\n",
    "\n",
    "    # Initialize the first row and column with indel penalties\n",
    "    for i in range(1, n + 1):\n",
    "        s[i][0] = indel_score * i\n",
    "        b[i][0] = \"oben\"\n",
    "    for j in range(1, m + 1):\n",
    "        s[0][j] = indel_score * j\n",
    "        b[0][j] = \"links\"\n",
    "\n",
    "    # Fill the DP matrix using the scoring matrix\n",
    "    for i in range(1, n + 1):\n",
    "        for j in range(1, m + 1):\n",
    "            match = s[i - 1][j - 1] + delta[(v[i - 1], w[j - 1])]\n",
    "            delete = s[i - 1][j] + indel_score\n",
    "            insert = s[i][j - 1] + indel_score\n",
    "            s[i][j] = max(match, delete, insert)\n",
    "\n",
    "            if s[i][j] == match:\n",
    "                b[i][j] = \"oben-links\"\n",
    "            elif s[i][j] == delete:\n",
    "                b[i][j] = \"oben\"\n",
    "            else:\n",
    "                b[i][j] = \"links\"\n",
    "\n",
    "    return s[n][m], b"
   ],
   "id": "74eeba72b8fac670",
   "outputs": [],
   "execution_count": 89
  },
  {
   "metadata": {
    "ExecuteTime": {
     "end_time": "2024-10-23T16:56:19.178004Z",
     "start_time": "2024-10-23T16:56:19.136072Z"
    }
   },
   "cell_type": "code",
   "source": [
    "delta = lese_scoring_matrix(\"blosum62.txt\")\n",
    "\n",
    "# Load both the sequences\n",
    "v = read_sequence(\"Homo_sapiens_hba.txt\")\n",
    "w = read_sequence(\"Homo_sapiens_mb.txt\")\n",
    "\n",
    "# Perform global alignment with indel score of -5\n",
    "score, B = needleman_wunsch(v, w, delta, indel_score=-5)\n",
    "aligned_v, aligned_w = backtrack_global_alignment(B, v, w, len(v), len(w))\n",
    "\n",
    "print(\"Score: \", score)\n",
    "print(\"aligned_v: \", aligned_v)\n",
    "print(\"aligned_w: \",aligned_w)"
   ],
   "id": "9ac094d776e99589",
   "outputs": [
    {
     "name": "stdout",
     "output_type": "stream",
     "text": [
      "Score:  106\n",
      "aligned_v:  MVLSPADKTNVKAAWGKVGAHAGEYGAEALERMFLSFP-TTKTY--FPHF---DLSHGSAQVKGHGKKVADALTNAVAHVDDMPNA-LSALSDLHAHKLRVDPVNF-KLLSHCLLVTL-AAHLPAEF---TP-AVHASLDKFLASV-STVLTSKYR-\n",
      "aligned_w:  MGLSDGEWQLVLNVWGKVEADIPGHGQEVLIRLFKGHPETLEKFDKFKHLKSEDEMKASEDLKKHGATVLTAL-GGILKKKGHHEAEIKPLAQSHATKHKI-PVKYLEFISECIIQVLQSKH-PGDFGADAQGAMNKALELFRKDMASNYKELGFQG\n"
     ]
    }
   ],
   "execution_count": 104
  },
  {
   "metadata": {
    "ExecuteTime": {
     "end_time": "2024-10-23T16:57:10.445789Z",
     "start_time": "2024-10-23T16:57:10.433357Z"
    }
   },
   "cell_type": "code",
   "source": [
    "def backtrack_global_alignment(b, v, w, i, j):\n",
    "    \"\"\"Recursively backtrack to find the aligned sequences.\"\"\"\n",
    "    aligned_v = []\n",
    "    aligned_w = []\n",
    "\n",
    "    while i > 0 or j > 0:\n",
    "        if i > 0 and j > 0 and b[i][j] == \"oben-links\":\n",
    "            aligned_v.append(v[i - 1])\n",
    "            aligned_w.append(w[j - 1])\n",
    "            i -= 1\n",
    "            j -= 1\n",
    "        elif i > 0 and (j == 0 or b[i][j] == \"oben\"):\n",
    "            aligned_v.append(v[i - 1])\n",
    "            aligned_w.append(\"-\")\n",
    "            i -= 1\n",
    "        else:\n",
    "            aligned_v.append(\"-\")\n",
    "            aligned_w.append(w[j - 1])\n",
    "            j -= 1\n",
    "\n",
    "    # Reverse the alignments because we built them backwards\n",
    "    return \"\".join(reversed(aligned_v)), \"\".join(reversed(aligned_w))"
   ],
   "id": "3617c954f4f8b432",
   "outputs": [],
   "execution_count": 105
  },
  {
   "metadata": {
    "ExecuteTime": {
     "end_time": "2024-10-23T16:57:16.814755Z",
     "start_time": "2024-10-23T16:57:16.809559Z"
    }
   },
   "cell_type": "code",
   "source": [
    "def write_alignment(score, aligned_v, aligned_w, filename):\n",
    "    \"\"\"Write the alignment and score to a file.\"\"\"\n",
    "    with open(filename, 'w') as f:\n",
    "        f.write(f\"Score: {score}\\n\")\n",
    "        f.write(aligned_v + \"\\n\")\n",
    "        f.write(aligned_w + \"\\n\")"
   ],
   "id": "4d6d19c736c264b",
   "outputs": [],
   "execution_count": 106
  },
  {
   "metadata": {
    "ExecuteTime": {
     "end_time": "2024-10-23T16:57:45.565479Z",
     "start_time": "2024-10-23T16:57:45.551015Z"
    }
   },
   "cell_type": "code",
   "source": [
    "write_alignment(score, aligned_v, aligned_w, \"global_aln.txt\")\n",
    "print(f\"Score with InDel = -5: {score}\")"
   ],
   "id": "16fac42b8d18d0bf",
   "outputs": [
    {
     "name": "stdout",
     "output_type": "stream",
     "text": [
      "Score with InDel = -5: 106\n"
     ]
    }
   ],
   "execution_count": 109
  },
  {
   "metadata": {
    "ExecuteTime": {
     "end_time": "2024-10-23T16:57:47.257083Z",
     "start_time": "2024-10-23T16:57:47.222013Z"
    }
   },
   "cell_type": "code",
   "source": [
    " # Now, perform global alignment with indel score of 0\n",
    "score_zero, B_zero = needleman_wunsch(v, w, delta, indel_score=0)\n",
    "aligned_v_zero, aligned_w_zero = backtrack_global_alignment(B_zero, v, w, len(v), len(w))\n",
    "\n",
    "# Write the result to another file\n",
    "write_alignment(score_zero, aligned_v_zero, aligned_w_zero, \"global_aln_indel_0.txt\")\n",
    "\n",
    "# Print the score for InDel = 0\n",
    "print(f\"Score with InDel = 0: {score_zero}\")"
   ],
   "id": "da2e8ae78ab3a798",
   "outputs": [
    {
     "name": "stdout",
     "output_type": "stream",
     "text": [
      "Score with InDel = 0: 367\n"
     ]
    }
   ],
   "execution_count": 110
  }
 ],
 "metadata": {
  "kernelspec": {
   "display_name": "Python 3 (ipykernel)",
   "language": "python",
   "name": "python3"
  },
  "language_info": {
   "codemirror_mode": {
    "name": "ipython",
    "version": 3
   },
   "file_extension": ".py",
   "mimetype": "text/x-python",
   "name": "python",
   "nbconvert_exporter": "python",
   "pygments_lexer": "ipython3",
   "version": "3.9.12"
  }
 },
 "nbformat": 4,
 "nbformat_minor": 5
}
