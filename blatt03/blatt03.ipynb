{
 "cells": [
  {
   "cell_type": "markdown",
   "id": "1a52ad24-00ff-45b4-99e0-a906bbb1478c",
   "metadata": {},
   "source": [
    "**Aufgabe 2**"
   ]
  },
  {
   "cell_type": "code",
   "id": "fd62f6b8-e44d-42d4-b371-0bcf5cd2a66d",
   "metadata": {
    "ExecuteTime": {
     "end_time": "2024-10-23T14:51:19.685151Z",
     "start_time": "2024-10-23T14:51:19.658440Z"
    }
   },
   "source": [
    "from webencodings.mklabels import assert_lower\n",
    "\n",
    "\n",
    "def lgt(v, w):\n",
    "    \"\"\"Find the longest common subsequence and return the score and the\n",
    "    backtracking matrix.\n",
    "\n",
    "    Return (s[n][m], b).\n",
    "    \"\"\"\n",
    "\n",
    "    # Sequence 1\n",
    "    l_v = [\"\"] + list(v)\n",
    "\n",
    "    # Sequence 2\n",
    "    l_w = [\"\"] + list(w)\n",
    "\n",
    "    n = len(l_v)\n",
    "    m = len(l_w)\n",
    "\n",
    "    # Initialize score matrix\n",
    "    s = [[0 for x in range(m)] for y in range(n)]\n",
    "\n",
    "    # Initialize backtracking matrix\n",
    "    b = [[\"\" for x in range(m)] for y in range(n)]\n",
    "    for i in range(1,n):\n",
    "        b[i][0] = \"oben\"\n",
    "    for j in range(1,m):\n",
    "        b[0][j] = \"links\"\n",
    "\n",
    "    for i in range(1, n):\n",
    "        for j in range(1, m):\n",
    "            # to distinguish between a match/mismatch.\n",
    "            match = False\n",
    "            if l_v[i] == l_w[j]:\n",
    "                s[i][j] = max(s[i - 1][j], s[i][j - 1], s[i - 1][j - 1] + 1)\n",
    "                match = True\n",
    "            else:\n",
    "                s[i][j] = max(s[i - 1][j], s[i][j - 1])\n",
    "            \n",
    "            if s[i][j] == s[i - 1][j - 1] + 1 and match:\n",
    "                b[i][j] = \"oben-links\"\n",
    "            elif s[i][j] == s[i - 1][j]:\n",
    "                b[i][j] = \"oben\"\n",
    "            elif s[i][j] == s[i][j - 1]:\n",
    "                b[i][j] = \"links\"\n",
    "\n",
    "    return s[n-1][m-1], b\n",
    "\n",
    "\n",
    "def print_matrix(matrix, title=None):\n",
    "    if title:\n",
    "        print(title)\n",
    "    for line in matrix:\n",
    "        print(line)\n",
    "    print()\n",
    "\n",
    "\n",
    "# Sequences\n",
    "v = \"ATGCG\"\n",
    "w = \"ATCCGC\"\n",
    "\n",
    "# Get score s_nm and backtracking matrix B\n",
    "score_nm, B = lgt(v, w)\n",
    "\n",
    "# print score s[n][m]\n",
    "print(\"Score:\", score_nm)\n",
    "print()\n",
    "\n",
    "# print backtracking matrix\n",
    "print_matrix(B, title='Backtracking b:')"
   ],
   "outputs": [
    {
     "name": "stdout",
     "output_type": "stream",
     "text": [
      "Score: 4\n",
      "\n",
      "Backtracking b:\n",
      "['', 'links', 'links', 'links', 'links', 'links', 'links']\n",
      "['oben', 'oben-links', 'links', 'links', 'links', 'links', 'links']\n",
      "['oben', 'oben', 'oben-links', 'links', 'links', 'links', 'links']\n",
      "['oben', 'oben', 'oben', 'oben', 'oben', 'oben-links', 'links']\n",
      "['oben', 'oben', 'oben', 'oben-links', 'oben-links', 'oben', 'oben-links']\n",
      "['oben', 'oben', 'oben', 'oben', 'oben', 'oben-links', 'oben']\n",
      "\n"
     ]
    }
   ],
   "execution_count": 4
  },
  {
   "metadata": {},
   "cell_type": "markdown",
   "source": "# Aufgabe 1",
   "id": "ad1d0fa6ac73462b"
  },
  {
   "metadata": {
    "ExecuteTime": {
     "end_time": "2024-10-23T15:36:08.419059Z",
     "start_time": "2024-10-23T15:36:08.391823Z"
    }
   },
   "cell_type": "code",
   "source": [
    "def backtrack_v(B, v, i, j):\n",
    "    if i == 0 and j == 0:\n",
    "        return \"\"\n",
    "    if i == 0:  \n",
    "        return \"-\" + backtrack_v(B, v, i, j - 1)\n",
    "    if j == 0:  \n",
    "        return v[i - 1] + backtrack_v(B, v, i - 1, j)\n",
    "    if B[i][j] == \"oben-links\":  \n",
    "        return backtrack_v(B, v, i - 1, j - 1) + v[i - 1]\n",
    "    elif B[i][j] == \"oben\":  \n",
    "        return backtrack_v(B, v, i - 1, j) + v[i - 1]\n",
    "    else:  \n",
    "        return backtrack_v(B, v, i, j - 1) + \"-\""
   ],
   "id": "f71cd19ad8b6c5e0",
   "outputs": [],
   "execution_count": 34
  },
  {
   "metadata": {
    "ExecuteTime": {
     "end_time": "2024-10-23T15:42:54.264686Z",
     "start_time": "2024-10-23T15:42:54.253474Z"
    }
   },
   "cell_type": "code",
   "source": "assert backtrack_v(B, v, len(v), len(w)) == \"AT--GCG\"",
   "id": "5e4e9c9ce55fb4ea",
   "outputs": [],
   "execution_count": 50
  },
  {
   "metadata": {
    "ExecuteTime": {
     "end_time": "2024-10-23T15:36:26.735726Z",
     "start_time": "2024-10-23T15:36:26.721782Z"
    }
   },
   "cell_type": "code",
   "source": [
    "def backtrack_w(B, w, i, j):\n",
    "    if i == 0 or j == 0:\n",
    "        return \"\"\n",
    "    if B[i][j] == \"oben-links\":\n",
    "        return backtrack_w(B, w, i - 1, j - 1) + w[j - 1]\n",
    "    elif B[i][j] == \"oben\":\n",
    "        return backtrack_w(B, w, i - 1, j) + \"-\"\n",
    "    else:  # \"links\"\n",
    "        return backtrack_w(B, w, i, j - 1) + w[j - 1]"
   ],
   "id": "eba02c236f1c92a",
   "outputs": [],
   "execution_count": 36
  },
  {
   "metadata": {
    "ExecuteTime": {
     "end_time": "2024-10-23T15:42:43.438039Z",
     "start_time": "2024-10-23T15:42:43.425960Z"
    }
   },
   "cell_type": "code",
   "source": [
    "\n",
    "assert backtrack_w(B, w, len(v), len(w)) == 'ATCCGC-'\n"
   ],
   "id": "66b5dbc261678322",
   "outputs": [],
   "execution_count": 48
  },
  {
   "metadata": {},
   "cell_type": "markdown",
   "source": "# Aufgabe 2",
   "id": "5277bc003ffb289f"
  },
  {
   "metadata": {
    "ExecuteTime": {
     "end_time": "2024-10-23T15:55:20.930912Z",
     "start_time": "2024-10-23T15:55:20.841307Z"
    }
   },
   "cell_type": "code",
   "source": [
    "def global_alignment(v, w, match_score=1, mismatch_score=0, gap_penalty=-1):\n",
    "    \n",
    "    # Sequence 1\n",
    "    l_v = [\"\"] + list(v)\n",
    "\n",
    "    # Sequence 2\n",
    "    l_w = [\"\"] + list(w)\n",
    "\n",
    "    n = len(l_v)\n",
    "    m = len(l_w)\n",
    "\n",
    "    # Initialize score matrix with gap penalties\n",
    "    s = [[0 for x in range(m)] for y in range(n)]\n",
    "    B = [[\"\" for x in range(m)] for y in range(n)]\n",
    "\n",
    "    for i in range(1, n):\n",
    "        s[i][0] = gap_penalty * i\n",
    "        B[i][0] = \"oben\" \n",
    "    for j in range(1, m):\n",
    "        s[0][j] = gap_penalty * j\n",
    "        B[0][j] = \"links\" \n",
    "\n",
    "    # Fill the DP matrix based on match, mismatch, and gap penalties\n",
    "    for i in range(1, n):\n",
    "        for j in range(1, m):\n",
    "            if l_v[i] == l_w[j]:  # Match\n",
    "                score_diag = s[i - 1][j - 1] + match_score\n",
    "            else:  # Mismatch\n",
    "                score_diag = s[i - 1][j - 1] + mismatch_score\n",
    "\n",
    "            score_up = s[i - 1][j] + gap_penalty  \n",
    "            score_left = s[i][j - 1] + gap_penalty\n",
    "\n",
    "            # Take the maximum of the three possible movements\n",
    "            s[i][j] = max(score_diag, score_up, score_left)\n",
    "\n",
    "            if s[i][j] == score_diag:\n",
    "                B[i][j] = \"oben-links\"  \n",
    "            elif s[i][j] == score_up:\n",
    "                B[i][j] = \"oben\"  \n",
    "            else:\n",
    "                B[i][j] = \"links\"  \n",
    "\n",
    "    return s[n-1][m-1], B"
   ],
   "id": "c92ac8344c3af8bb",
   "outputs": [],
   "execution_count": 51
  },
  {
   "metadata": {
    "ExecuteTime": {
     "end_time": "2024-10-23T16:01:37.827501Z",
     "start_time": "2024-10-23T16:01:37.798570Z"
    }
   },
   "cell_type": "code",
   "source": [
    "def backtrack_global_alignment(B, v, w, i, j):\n",
    "    aligned_v = []\n",
    "    aligned_w = []\n",
    "    \n",
    "    while i > 0 or j > 0:\n",
    "        if i > 0 and j > 0 and B[i][j] == \"oben-links\":\n",
    "            aligned_v.append(v[i - 1])\n",
    "            aligned_w.append(w[j - 1])\n",
    "            i -= 1\n",
    "            j -= 1\n",
    "        elif i > 0 and (j == 0 or B[i][j] == \"oben\"):\n",
    "            aligned_v.append(v[i - 1])\n",
    "            aligned_w.append(\"-\")\n",
    "            i -= 1\n",
    "        else:\n",
    "            aligned_v.append(\"-\")\n",
    "            aligned_w.append(w[j - 1])\n",
    "            j -= 1\n",
    "\n",
    "    # Reverse the alignments\n",
    "    return \"\".join(reversed(aligned_v)), \"\".join(reversed(aligned_w))\n"
   ],
   "id": "4b9c4e3875d5b3f2",
   "outputs": [],
   "execution_count": 57
  },
  {
   "metadata": {
    "ExecuteTime": {
     "end_time": "2024-10-23T15:59:07.374239Z",
     "start_time": "2024-10-23T15:59:07.349332Z"
    }
   },
   "cell_type": "code",
   "source": [
    "# Get score and backtracking matrix B for the global_alignment impl.\n",
    "score_global, B_global = global_alignment(v, w, match_score=1, mismatch_score=0, gap_penalty=-1)\n",
    "\n",
    "# print score s[n][m]\n",
    "print(\"Score:\", score_global)\n",
    "print()\n",
    "\n",
    "# print backtracking matrix\n",
    "print_matrix(B_global, title='Backtracking B:')"
   ],
   "id": "17aeabf119a8ea24",
   "outputs": [
    {
     "name": "stdout",
     "output_type": "stream",
     "text": [
      "Score: 3\n",
      "\n",
      "Backtracking B:\n",
      "['', 'links', 'links', 'links', 'links', 'links', 'links']\n",
      "['oben', 'oben-links', 'links', 'links', 'links', 'links', 'links']\n",
      "['oben', 'oben', 'oben-links', 'links', 'links', 'links', 'links']\n",
      "['oben', 'oben', 'oben', 'oben-links', 'oben-links', 'oben-links', 'links']\n",
      "['oben', 'oben', 'oben', 'oben-links', 'oben-links', 'links', 'oben-links']\n",
      "['oben', 'oben', 'oben', 'oben', 'oben-links', 'oben-links', 'links']\n",
      "\n"
     ]
    }
   ],
   "execution_count": 53
  },
  {
   "metadata": {
    "ExecuteTime": {
     "end_time": "2024-10-23T16:01:40.650779Z",
     "start_time": "2024-10-23T16:01:40.621587Z"
    }
   },
   "cell_type": "code",
   "source": [
    "aligned_v, aligned_w = backtrack_global_alignment(B_global, v, w, len(v), len(w))\n",
    "print(f\"Score: {score_global}\")\n",
    "print(\"LGT-Alignment:\")\n",
    "print(aligned_v)\n",
    "print(aligned_w)\n",
    "\n",
    "# Save to file\n",
    "with open(\"alignment.txt\", \"w\") as file:\n",
    "    file.write(f\"Score: {score_global}\\n\")\n",
    "    file.write(\"LGT-Alignment:\\n\")\n",
    "    file.write(aligned_v + \"\\n\")\n",
    "    file.write(aligned_w + \"\\n\")"
   ],
   "id": "a10c21846052ea9a",
   "outputs": [
    {
     "name": "stdout",
     "output_type": "stream",
     "text": [
      "Score: 3\n",
      "LGT-Alignment:\n",
      "ATGCG-\n",
      "ATCCGC\n"
     ]
    }
   ],
   "execution_count": 58
  },
  {
   "metadata": {},
   "cell_type": "markdown",
   "source": "# Aufgabe 3",
   "id": "d76f36cb2a6c582b"
  },
  {
   "metadata": {},
   "cell_type": "code",
   "outputs": [],
   "execution_count": null,
   "source": "",
   "id": "1b28ce6187458c0d"
  }
 ],
 "metadata": {
  "kernelspec": {
   "display_name": "Python 3 (ipykernel)",
   "language": "python",
   "name": "python3"
  },
  "language_info": {
   "codemirror_mode": {
    "name": "ipython",
    "version": 3
   },
   "file_extension": ".py",
   "mimetype": "text/x-python",
   "name": "python",
   "nbconvert_exporter": "python",
   "pygments_lexer": "ipython3",
   "version": "3.9.12"
  }
 },
 "nbformat": 4,
 "nbformat_minor": 5
}
