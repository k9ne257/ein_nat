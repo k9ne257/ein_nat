
    "pycharm": {
     "name": "#%% md\n"
    }
   },
   "source": [
    "# Aufgabe 1"
   ]
  },
  {
   "cell_type": "code",
   "execution_count": null,
   "metadata": {
    "collapsed": false,
    "jupyter": {
     "outputs_hidden": false
    },
    "pycharm": {
     "name": "#%%\n",
     "is_executing": true
    }
   },
   "outputs": [],
   "source": [
    "\n",
    "v = \"ATGCG\"\n",
    "w = \"ATCCGC\"\n",
    "\n",
    "\n",
    "n = len(v)\n",
    "m = len(w)\n",
    "\n",
    "\n",
    "S = [[0 for _ in range(m+1)] for _ in range(n+1)]\n",
    "\n",
    "# Füllen der Matrix S\n",
    "for i in range(1, n+1):\n",
    "    for j in range(1, m+1):\n",
    "        if v[i-1] == w[j-1]:\n",
    "            S[i][j] = S[i-1][j-1] + 1\n",
    "        else:\n",
    "            S[i][j] = max(S[i-1][j], S[i][j-1])\n",
    "\n",
    "\n",
    "print(\"Scoring-Matrix S:\")\n",
    "for row in S:\n",
    "    print(row)\n",
    "\n",
    "# Speichern der Matrix S in einer Datei\n",
    "with open(\"S.txt\", \"w\") as f:\n",
    "    for row in S:\n",
    "        f.write(\" \".join(map(str, row)) + \"\\n\")"
   ]
  },
  {
   "cell_type": "markdown",
   "metadata": {
    "collapsed": false,
    "jupyter": {
     "outputs_hidden": false
    },
    "pycharm": {
     "name": "#%% md\n"
    }
   },
   "source": [
    "# Aufgabe 2"
   ]
  },
  {
   "cell_type": "code",
   "execution_count": null,
   "outputs": [],
   "source": [
    "\n",
    "def lgt(v, w):\n",
    "    n = len(v)\n",
    "    m = len(w)\n",
    "\n",
    "\n",
    "    S = [[0 for _ in range(m+1)] for _ in range(n+1)]\n",
    "    B = [[\"\" for _ in range(m+1)] for _ in range(n+1)]\n",
    "\n",
    "    # Füllen der Matrizen S und B\n",
    "    for i in range(1, n+1):\n",
    "        for j in range(1, m+1):\n",
    "            if v[i-1] == w[j-1]:\n",
    "                S[i][j] = S[i-1][j-1] + 1\n",
    "                B[i][j] = \"oben-links\"\n",
    "            elif S[i-1][j] >= S[i][j-1]:\n",
    "                S[i][j] = S[i-1][j]\n",
    "                B[i][j] = \"oben\"\n",
    "            else:\n",
    "                S[i][j] = S[i][j-1]\n",
    "                B[i][j] = \"links\"\n",
    "\n",
    "    # Rückgabe des Scores und der Backtracking-Matrix\n",
    "    return S[n][m], B\n",
    "\n",
    "\n",
    "v = \"ATGCG\"\n",
    "w = \"ATCCGC\"\n",
    "\n",
    "\n",
    "score, B = lgt(v, w)\n",
    "\n",
    "\n",
    "print(f\"Score: {score}\")\n",
    "print(\"Backtracking-Matrix B:\")\n",
    "for row in B:\n",
    "    print(row)"
   ],
   "metadata": {
    "collapsed": false,
    "pycharm": {
     "name": "#%%\n"
    }
   }
  },
  {
   "cell_type": "code",
   "execution_count": null,
   "outputs": [],
   "source": [],
   "metadata": {
    "collapsed": false,
    "pycharm": {
     "name": "#%%\n"
    }
   }
  }
 ],
 "metadata": {
  "kernelspec": {
   "display_name": "Python 3 (ipykernel)",
   "language": "python",
   "name": "python3"
  },
  "language_info": {
   "codemirror_mode": {
    "name": "ipython",
    "version": 3
   },
   "file_extension": ".py",
   "mimetype": "text/x-python",
   "name": "python",
   "nbconvert_exporter": "python",
   "pygments_lexer": "ipython3",
   "version": "3.10.5"
  }
 },
 "nbformat": 4,
 "nbformat_minor": 4
}
    print(row)

# Speichern der Matrix S in einer Datei
with open("S.txt", "w") as f:
    for row in S:
        f.write(" ".join(map(str, row)) + "\n")


